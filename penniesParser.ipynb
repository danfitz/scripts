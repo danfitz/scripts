{
 "cells": [
  {
   "cell_type": "code",
   "execution_count": 1,
   "metadata": {
    "scrolled": true
   },
   "outputs": [
    {
     "name": "stdout",
     "output_type": "stream",
     "text": [
      "Provide absolute path of folder containing csv files: C:\\Users\\Fitz Wage\\pennies\\csv\n"
     ]
    }
   ],
   "source": [
    "import pandas as pd\n",
    "import urllib.parse as parse\n",
    "import os\n",
    "import datetime\n",
    "\n",
    "# Folder path of input CSV files\n",
    "folderPath = input(r\"Provide absolute path of folder containing csv files: \")\n",
    "\n",
    "# Output DataFrames\n",
    "jouExpenses = pd.DataFrame(columns=[\"category\", \"item\", \"JOU\", \"datetime\"])\n",
    "dansExpenses = pd.DataFrame(columns=[\"category\", \"item\", \"cost\", \"datetime\"])\n",
    "johnsExpenses = pd.DataFrame(columns=[\"category\", \"item\", \"cost\", \"datetime\"])\n",
    "\n",
    "# LOOP THROUGH EVERY CSV FILE\n",
    "for csvFile in os.listdir(folderPath):\n",
    "    # Use csv file to create DataFrame\n",
    "    expenses_cols = [\"date\", \"time\", \"item\", \"cost\", \"income\", \"balanceDay\", \"balancePeriod\"]\n",
    "    expenses = pd.read_csv(os.path.join(folderPath, csvFile), names=expenses_cols, header=0)\n",
    "\n",
    "    # Parse CSV file title to get category name & budget\n",
    "    csvFileSplit = csvFile.split(\"-\")\n",
    "    descriptionSplit = csvFileSplit[0].split(\" \")\n",
    "    category = descriptionSplit[0]\n",
    "    budget = float(descriptionSplit[1][1:]) / 2\n",
    "    \n",
    "    # Add datetime column & category column\n",
    "    expenses[\"datetime\"] = expenses[\"date\"] + \" \" + expenses[\"time\"]\n",
    "    expenses[\"datetime\"] = pd.to_datetime(expenses[\"datetime\"], yearfirst=True, format=\"%Y-%m-%d %H:%M %p\")\n",
    "    expenses.insert(0, \"category\", category)\n",
    "\n",
    "    # Convert cost to negative (to reflect loss)\n",
    "    expenses[\"cost\"] = -expenses[\"cost\"]\n",
    "    # Move income to cost column if it's not empty\n",
    "    expenses[\"cost\"] = expenses[\"income\"].where(expenses[\"income\"].notnull(), expenses[\"cost\"])\n",
    "\n",
    "    # Delete unnecessary columns\n",
    "    expenses.drop([\"date\", \"time\", \"income\", \"balanceDay\", \"balancePeriod\"], axis=1, inplace=True)\n",
    "    \n",
    "    # Create empty lists\n",
    "    dansItems = [[category, \"BUDGET BUMP\", budget, \"\"]]\n",
    "    johnsItems = [[category, \"BUDGET BUMP\", budget, \"\"]]\n",
    "    if not expenses.empty:\n",
    "        dansItems[0][3] = (expenses[\"datetime\"][0].replace(day=1))\n",
    "        johnsItems[0][3] = (expenses[\"datetime\"][0].replace(day=1))\n",
    "    jouItems = []\n",
    "    \n",
    "    # Loop through every row of DataFrame and parse data into one of the 3 lists above\n",
    "    for index, row in expenses.iterrows():\n",
    "        # Case 1: Dan bought on his own\n",
    "        if row[\"item\"].startswith(\"D \") and row[\"item\"].endswith(\" D\"):\n",
    "            dansItem = []\n",
    "            for cell in row:\n",
    "                dansItem.append(cell)\n",
    "            dansItems.append(dansItem)\n",
    "\n",
    "        # Case 2: John bought on his own\n",
    "        if row[\"item\"].startswith(\"J \") and row[\"item\"].endswith(\" J\"):\n",
    "            johnsItem = []\n",
    "            for cell in row:\n",
    "                johnsItem.append(cell)\n",
    "            johnsItems.append(johnsItem)\n",
    "\n",
    "        # Case 3: Dan bought for both\n",
    "        if row[\"item\"].startswith(\"D \") and row[\"item\"].endswith(\" JD\"):\n",
    "            dansItem = []\n",
    "            johnsItem = []\n",
    "            jouItem = []\n",
    "            splitCost = row[\"cost\"] / 2\n",
    "            row[\"cost\"] = splitCost\n",
    "            for cell in row:\n",
    "                dansItem.append(cell)\n",
    "                johnsItem.append(cell)\n",
    "                jouItem.append(cell)\n",
    "            dansItems.append(dansItem)\n",
    "            johnsItems.append(johnsItem)\n",
    "            jouItems.append(jouItem)\n",
    "            \n",
    "        # Case 4: John bought for both\n",
    "        if row[\"item\"].startswith(\"J \") and row[\"item\"].endswith(\" JD\"):\n",
    "            dansItem = []\n",
    "            johnsItem = []\n",
    "            jouItem = []\n",
    "            splitCost = row[\"cost\"] / 2\n",
    "            row[\"cost\"] = splitCost\n",
    "            for cell in row:\n",
    "                dansItem.append(cell)\n",
    "                johnsItem.append(cell)\n",
    "                jouItem.append(cell)\n",
    "            jouItem[2] = -jouItem[2] # because I owe John now\n",
    "            dansItems.append(dansItem)\n",
    "            johnsItems.append(johnsItem)\n",
    "            jouItems.append(jouItem)\n",
    "\n",
    "        # Case 5: We bought separate but it's one entry\n",
    "        if row[\"item\"].startswith(\"JD \") and row[\"item\"].endswith(\" JD\"):\n",
    "            dansItem = []\n",
    "            johnsItem = []\n",
    "            splitCost = row[\"cost\"] / 2\n",
    "            row[\"cost\"] = splitCost\n",
    "            for cell in row:\n",
    "                dansItem.append(cell)\n",
    "                johnsItem.append(cell)\n",
    "            dansItems.append(dansItem)\n",
    "            johnsItems.append(johnsItem)\n",
    "\n",
    "    # Create DataFrame out of lists\n",
    "    jouItems = pd.DataFrame(jouItems, columns=[\"category\", \"item\", \"JOU\", \"datetime\"])\n",
    "    jouItems[\"JOU\"] = -jouItems[\"JOU\"] # Because positives are easier to read\n",
    "    dansItems = pd.DataFrame(dansItems, columns=[\"category\", \"item\", \"cost\", \"datetime\"])\n",
    "    johnsItems = pd.DataFrame(johnsItems, columns=[\"category\", \"item\", \"cost\", \"datetime\"])\n",
    "    # Append new DataFrames to output DataFrames\n",
    "    jouExpenses = jouExpenses.append(jouItems, ignore_index=True, sort=False)\n",
    "    dansExpenses = dansExpenses.append(dansItems, ignore_index=True, sort=False)\n",
    "    johnsExpenses = johnsExpenses.append(johnsItems, ignore_index=True, sort=False)\n",
    "    # Sorts output DataFrames by category and then datetime\n",
    "    jouExpenses.sort_values([\"category\", \"datetime\"])\n",
    "    dansExpenses.sort_values([\"category\", \"datetime\"])\n",
    "\n",
    "# Turn output DataFrames into CSV files\n",
    "jouExpenses.to_csv(os.path.join(folderPath, \"jouExpenses.csv\"))\n",
    "dansExpenses.to_csv(os.path.join(folderPath, \"dansExpenses.csv\"))\n",
    "johnsExpenses.to_csv(os.path.join(folderPath, \"johnsExpenses.csv\"))"
   ]
  },
  {
   "cell_type": "code",
   "execution_count": 121,
   "metadata": {},
   "outputs": [
    {
     "data": {
      "text/plain": [
       "'The Shawshank Redemption'"
      ]
     },
     "execution_count": 121,
     "metadata": {},
     "output_type": "execute_result"
    }
   ],
   "source": [
    "test = pd.read_csv(\"http://bit.ly/imdbratings\")\n",
    "test[\"title\"][0]"
   ]
  }
 ],
 "metadata": {
  "kernelspec": {
   "display_name": "Python 3",
   "language": "python",
   "name": "python3"
  },
  "language_info": {
   "codemirror_mode": {
    "name": "ipython",
    "version": 3
   },
   "file_extension": ".py",
   "mimetype": "text/x-python",
   "name": "python",
   "nbconvert_exporter": "python",
   "pygments_lexer": "ipython3",
   "version": "3.7.0"
  }
 },
 "nbformat": 4,
 "nbformat_minor": 2
}
